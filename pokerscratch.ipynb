{
 "cells": [
  {
   "cell_type": "code",
   "execution_count": 1,
   "id": "e1be174c",
   "metadata": {},
   "outputs": [],
   "source": [
    "import numpy as np\n",
    "import random"
   ]
  },
  {
   "cell_type": "code",
   "execution_count": 2,
   "id": "105bd2e8",
   "metadata": {},
   "outputs": [],
   "source": [
    "class Card:\n",
    "    def __init__(self, suit, denom):\n",
    "        self.suit = suit\n",
    "        self.denom = denom\n",
    "        self.names = {\n",
    "            11 : 'Jack',\n",
    "            12 : 'Queen',\n",
    "            13 : 'King', \n",
    "            14 : 'Ace'\n",
    "        }\n",
    "        for i in range(1, 11):\n",
    "            self.names[i] = str(i)\n",
    "            \n",
    "    \n",
    "    def view(self):\n",
    "        return (self.suit, self.names[self.denom])\n",
    "        \n",
    "class Deck:\n",
    "    def __init__(self):\n",
    "        self.deck = []\n",
    "        suits = ['spade', 'diamond', 'heart', 'club']\n",
    "        denoms = list(range(2,15))\n",
    "        for suit in suits:\n",
    "            for denom in denoms:\n",
    "                self.deck.append(Card(suit, denom))\n",
    "                \n",
    "    def shuffle(self):\n",
    "        random.shuffle(self.deck)\n",
    "        \n",
    "    def deal(self):\n",
    "        return self.deck.pop()\n",
    "    \n",
    "class Table:\n",
    "    def __init__(self, num_hands):\n",
    "        self.table = []\n",
    "        self.hands = []\n",
    "        self.mydeck = Deck()\n",
    "        self.mydeck.shuffle()\n",
    "        self.deal_hands(num_hands)\n",
    "        self.deal_table()\n",
    "        \n",
    "    def deal_hands(self, num_hands):\n",
    "        for hand in range(num_hands):\n",
    "            new_hand = []\n",
    "            for i in range(2):\n",
    "                new_hand.append(self.mydeck.deck.pop())\n",
    "            self.hands.append(new_hand)\n",
    "    \n",
    "    def deal_table(self):\n",
    "        self.deal_flop()\n",
    "        self.deal_turn()\n",
    "        self.deal_river()\n",
    "    \n",
    "    def deal_flop(self):\n",
    "        for i in range(3):\n",
    "            self.table.append(self.mydeck.deck.pop())\n",
    "    \n",
    "    def deal_turn(self):\n",
    "        self.table.append(self.mydeck.deck.pop())\n",
    "        \n",
    "    def deal_river(self):\n",
    "        self.table.append(self.mydeck.deck.pop())\n",
    "        \n",
    "    def view_table(self):\n",
    "        return [ x.view() for x in self.table ]\n",
    "    \n",
    "    def view_hands(self):\n",
    "        hand_dict = {}\n",
    "        for i in range(len(self.hands)):\n",
    "            hand_dict[i + 1] = [ x.view() for x in self.hands[i] ]\n",
    "        \n",
    "        return hand_dict"
   ]
  },
  {
   "cell_type": "code",
   "execution_count": 6,
   "id": "ce3d0bdf",
   "metadata": {},
   "outputs": [],
   "source": [
    "mytable = Table(4)"
   ]
  },
  {
   "cell_type": "code",
   "execution_count": 10,
   "id": "b7cf86d9",
   "metadata": {},
   "outputs": [
    {
     "data": {
      "text/plain": [
       "[('club', '5'), ('diamond', '10'), ('heart', '4')]"
      ]
     },
     "execution_count": 10,
     "metadata": {},
     "output_type": "execute_result"
    }
   ],
   "source": [
    "mytable.view_table()[0:1]\n"
   ]
  },
  {
   "cell_type": "code",
   "execution_count": 11,
   "id": "a948bf5f",
   "metadata": {},
   "outputs": [
    {
     "data": {
      "text/plain": [
       "('spade', 'Jack')"
      ]
     },
     "execution_count": 11,
     "metadata": {},
     "output_type": "execute_result"
    }
   ],
   "source": [
    "mytable.view_table()[4]"
   ]
  },
  {
   "cell_type": "code",
   "execution_count": 12,
   "id": "fda42185",
   "metadata": {},
   "outputs": [
    {
     "ename": "IndexError",
     "evalue": "list index out of range",
     "output_type": "error",
     "traceback": [
      "\u001b[0;31m---------------------------------------------------------------------------\u001b[0m",
      "\u001b[0;31mIndexError\u001b[0m                                Traceback (most recent call last)",
      "\u001b[0;32m/var/folders/11/kzbkmzd57fvczgn973lvp47m0000gn/T/ipykernel_38263/2814212385.py\u001b[0m in \u001b[0;36m<module>\u001b[0;34m\u001b[0m\n\u001b[0;32m----> 1\u001b[0;31m \u001b[0mmytable\u001b[0m\u001b[0;34m.\u001b[0m\u001b[0mview_table\u001b[0m\u001b[0;34m(\u001b[0m\u001b[0;34m)\u001b[0m\u001b[0;34m[\u001b[0m\u001b[0;36m5\u001b[0m\u001b[0;34m]\u001b[0m\u001b[0;34m\u001b[0m\u001b[0;34m\u001b[0m\u001b[0m\n\u001b[0m",
      "\u001b[0;31mIndexError\u001b[0m: list index out of range"
     ]
    }
   ],
   "source": [
    "mytable.view_table()[5]"
   ]
  },
  {
   "cell_type": "code",
   "execution_count": 8,
   "id": "658c0b90",
   "metadata": {},
   "outputs": [
    {
     "data": {
      "text/plain": [
       "{1: [('spade', '8'), ('club', '8')],\n",
       " 2: [('diamond', '4'), ('club', '3')],\n",
       " 3: [('heart', '5'), ('spade', '9')],\n",
       " 4: [('diamond', '5'), ('heart', '10')]}"
      ]
     },
     "execution_count": 8,
     "metadata": {},
     "output_type": "execute_result"
    }
   ],
   "source": [
    "mytable.view_hands()"
   ]
  },
  {
   "cell_type": "code",
   "execution_count": null,
   "id": "43498363",
   "metadata": {},
   "outputs": [],
   "source": []
  }
 ],
 "metadata": {
  "kernelspec": {
   "display_name": "Python 3.7.3 64-bit",
   "language": "python",
   "name": "python3"
  },
  "language_info": {
   "codemirror_mode": {
    "name": "ipython",
    "version": 3
   },
   "file_extension": ".py",
   "mimetype": "text/x-python",
   "name": "python",
   "nbconvert_exporter": "python",
   "pygments_lexer": "ipython3",
   "version": "3.7.3"
  },
  "vscode": {
   "interpreter": {
    "hash": "31f2aee4e71d21fbe5cf8b01ff0e069b9275f58929596ceb00d14d90e3e16cd6"
   }
  }
 },
 "nbformat": 4,
 "nbformat_minor": 5
}
