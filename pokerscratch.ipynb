{
 "cells": [
  {
   "cell_type": "code",
   "execution_count": 12,
   "id": "da48f73c",
   "metadata": {},
   "outputs": [],
   "source": [
    "import numpy as np\n",
    "import random"
   ]
  },
  {
   "cell_type": "code",
   "execution_count": 69,
   "id": "95b12400",
   "metadata": {},
   "outputs": [],
   "source": [
    "class Card:\n",
    "    def __init__(self, suit, denom):\n",
    "        self.suit = suit\n",
    "        self.denom = denom\n",
    "        self.names = {\n",
    "            11 : 'Jack',\n",
    "            12 : 'Queen',\n",
    "            13 : 'King', \n",
    "            14 : 'Ace'\n",
    "        }\n",
    "        for i in range(1, 11):\n",
    "            self.names[i] = str(i)\n",
    "            \n",
    "    \n",
    "    def view(self):\n",
    "        return (self.suit, self.names[self.denom])\n",
    "        \n",
    "class Deck:\n",
    "    def __init__(self):\n",
    "        self.deck = []\n",
    "        suits = ['spade', 'diamond', 'heart', 'club']\n",
    "        denoms = list(range(2,15))\n",
    "        for suit in suits:\n",
    "            for denom in denoms:\n",
    "                print(denom)\n",
    "                self.deck.append(Card(suit, denom))\n",
    "                \n",
    "    def shuffle(self):\n",
    "        random.shuffle(self.deck)\n",
    "        \n",
    "    def deal(self):\n",
    "        return self.deck.pop()\n",
    "    \n",
    "class Table:\n",
    "    def __init__(self):\n",
    "        self.table = []\n",
    "        self.hands = []\n",
    "        self.deck = Deck()\n",
    "        self.deck.shuffle()\n",
    "        \n",
    "    def deal_hands(self, num_hands):\n",
    "        for hand in num_hands:\n",
    "            new_hand = []\n",
    "            for i in range(2):\n",
    "                new_hand.append(self.deck.pop())\n",
    "            self.hands.append(new_hand)\n",
    "    \n",
    "    def deal_flop(self):\n",
    "        for i in range(3):\n",
    "            self.table.append(self.deck.pop())\n",
    "    \n",
    "    def deal_turn(self):\n",
    "        self.table.append(self.deck.pop())\n",
    "        \n",
    "    def deal_river(self):\n",
    "        self.table.append(self.deck.pop())\n",
    "        \n",
    "    def view_table(self):\n",
    "        "
   ]
  },
  {
   "cell_type": "code",
   "execution_count": 63,
   "id": "c1e9f0b5",
   "metadata": {},
   "outputs": [
    {
     "name": "stdout",
     "output_type": "stream",
     "text": [
      "0\n",
      "1\n",
      "2\n"
     ]
    }
   ],
   "source": [
    "for i in range(3):\n",
    "    print(i)"
   ]
  },
  {
   "cell_type": "code",
   "execution_count": 66,
   "id": "53470794",
   "metadata": {},
   "outputs": [],
   "source": [
    "li = [Card('heart',4), Card('spade',3)]"
   ]
  },
  {
   "cell_type": "code",
   "execution_count": 67,
   "id": "799cae63",
   "metadata": {},
   "outputs": [
    {
     "data": {
      "text/plain": [
       "('heart', '4')"
      ]
     },
     "execution_count": 67,
     "metadata": {},
     "output_type": "execute_result"
    }
   ],
   "source": [
    "li[0].view()"
   ]
  },
  {
   "cell_type": "code",
   "execution_count": 34,
   "id": "3c303bfc",
   "metadata": {},
   "outputs": [],
   "source": [
    "li = list(range(1,20))"
   ]
  },
  {
   "cell_type": "code",
   "execution_count": 35,
   "id": "18d32235",
   "metadata": {},
   "outputs": [],
   "source": [
    "random.shuffle(li)"
   ]
  },
  {
   "cell_type": "code",
   "execution_count": 41,
   "id": "a1993b89",
   "metadata": {},
   "outputs": [
    {
     "name": "stdout",
     "output_type": "stream",
     "text": [
      "2\n",
      "3\n",
      "4\n",
      "5\n",
      "6\n",
      "7\n",
      "8\n",
      "9\n",
      "10\n",
      "11\n",
      "12\n",
      "13\n",
      "14\n",
      "2\n",
      "3\n",
      "4\n",
      "5\n",
      "6\n",
      "7\n",
      "8\n",
      "9\n",
      "10\n",
      "11\n",
      "12\n",
      "13\n",
      "14\n",
      "2\n",
      "3\n",
      "4\n",
      "5\n",
      "6\n",
      "7\n",
      "8\n",
      "9\n",
      "10\n",
      "11\n",
      "12\n",
      "13\n",
      "14\n",
      "2\n",
      "3\n",
      "4\n",
      "5\n",
      "6\n",
      "7\n",
      "8\n",
      "9\n",
      "10\n",
      "11\n",
      "12\n",
      "13\n",
      "14\n",
      "52\n"
     ]
    }
   ],
   "source": [
    "mydeck = Deck()\n",
    "mydeck.shuffle()\n",
    "print(len(mydeck.deck))"
   ]
  },
  {
   "cell_type": "code",
   "execution_count": 68,
   "id": "b18f65f7",
   "metadata": {},
   "outputs": [
    {
     "name": "stdout",
     "output_type": "stream",
     "text": [
      "14\n",
      "13\n",
      "9\n",
      "5\n",
      "11\n",
      "3\n",
      "8\n",
      "9\n",
      "3\n",
      "4\n",
      "7\n",
      "2\n",
      "2\n",
      "13\n",
      "11\n",
      "6\n",
      "11\n",
      "5\n",
      "13\n",
      "14\n",
      "12\n",
      "4\n",
      "7\n",
      "13\n",
      "9\n",
      "3\n",
      "11\n",
      "9\n",
      "6\n",
      "8\n",
      "5\n",
      "5\n",
      "12\n",
      "14\n",
      "8\n",
      "4\n",
      "7\n",
      "14\n",
      "10\n",
      "4\n",
      "2\n",
      "6\n",
      "10\n",
      "10\n",
      "10\n",
      "12\n",
      "3\n",
      "8\n",
      "12\n",
      "6\n",
      "7\n",
      "2\n"
     ]
    }
   ],
   "source": [
    "for i in range(52):\n",
    "    print(mydeck.deck[i].denom)"
   ]
  },
  {
   "cell_type": "code",
   "execution_count": 47,
   "id": "ef24d21c",
   "metadata": {},
   "outputs": [
    {
     "data": {
      "text/plain": [
       "8"
      ]
     },
     "execution_count": 47,
     "metadata": {},
     "output_type": "execute_result"
    }
   ],
   "source": [
    "li.pop()"
   ]
  },
  {
   "cell_type": "code",
   "execution_count": null,
   "id": "3508ab55",
   "metadata": {},
   "outputs": [],
   "source": []
  }
 ],
 "metadata": {
  "kernelspec": {
   "display_name": "Python 3 (ipykernel)",
   "language": "python",
   "name": "python3"
  },
  "language_info": {
   "codemirror_mode": {
    "name": "ipython",
    "version": 3
   },
   "file_extension": ".py",
   "mimetype": "text/x-python",
   "name": "python",
   "nbconvert_exporter": "python",
   "pygments_lexer": "ipython3",
   "version": "3.9.7"
  }
 },
 "nbformat": 4,
 "nbformat_minor": 5
}
