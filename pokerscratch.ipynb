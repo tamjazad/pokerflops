{
 "cells": [
  {
   "cell_type": "code",
   "execution_count": 123,
   "id": "e1be174c",
   "metadata": {},
   "outputs": [],
   "source": [
    "import numpy as np\n",
    "import random"
   ]
  },
  {
   "cell_type": "code",
   "execution_count": 124,
   "id": "105bd2e8",
   "metadata": {},
   "outputs": [],
   "source": [
    "class Card:\n",
    "    def __init__(self, suit, denom):\n",
    "        self.suit = suit\n",
    "        self.denom = denom\n",
    "        self.names = {\n",
    "            11 : 'Jack',\n",
    "            12 : 'Queen',\n",
    "            13 : 'King', \n",
    "            14 : 'Ace'\n",
    "        }\n",
    "        for i in range(1, 11):\n",
    "            self.names[i] = str(i)\n",
    "            \n",
    "    \n",
    "    def view(self):\n",
    "        return (self.suit, self.names[self.denom])\n",
    "        \n",
    "class Deck:\n",
    "    def __init__(self):\n",
    "        self.deck = []\n",
    "        suits = ['spade', 'diamond', 'heart', 'club']\n",
    "        denoms = list(range(2,15))\n",
    "        for suit in suits:\n",
    "            for denom in denoms:\n",
    "                self.deck.append(Card(suit, denom))\n",
    "                \n",
    "    def shuffle(self):\n",
    "        random.shuffle(self.deck)\n",
    "        \n",
    "    def deal(self):\n",
    "        return self.deck.pop()\n",
    "    \n",
    "class Table:\n",
    "    def __init__(self, num_hands):\n",
    "        self.table = []\n",
    "        self.hands = []\n",
    "        self.mydeck = Deck()\n",
    "        self.mydeck.shuffle()\n",
    "        self.deal_hands(num_hands)\n",
    "        self.deal_table()\n",
    "        \n",
    "    def deal_hands(self, num_hands):\n",
    "        for hand in range(num_hands):\n",
    "            new_hand = []\n",
    "            for i in range(2):\n",
    "                new_hand.append(self.mydeck.deck.pop())\n",
    "            self.hands.append(new_hand)\n",
    "    \n",
    "    def deal_table(self):\n",
    "        self.deal_flop()\n",
    "        self.deal_turn()\n",
    "        self.deal_river()\n",
    "    \n",
    "    def deal_flop(self):\n",
    "        for i in range(3):\n",
    "            self.table.append(self.mydeck.deck.pop())\n",
    "    \n",
    "    def deal_turn(self):\n",
    "        self.table.append(self.mydeck.deck.pop())\n",
    "        \n",
    "    def deal_river(self):\n",
    "        self.table.append(self.mydeck.deck.pop())\n",
    "        \n",
    "    def view_table(self):\n",
    "        return [ x.view() for x in self.table ]\n",
    "    \n",
    "    def view_hands(self):\n",
    "        hand_dict = {}\n",
    "        for i in range(len(self.hands)):\n",
    "            hand_dict[i + 1] = [ x.view() for x in self.hands[i] ]\n",
    "        \n",
    "        return hand_dict"
   ]
  },
  {
   "cell_type": "code",
   "execution_count": 125,
   "id": "322722a7",
   "metadata": {},
   "outputs": [
    {
     "name": "stdout",
     "output_type": "stream",
     "text": [
      "0\n",
      "1\n",
      "2\n"
     ]
    }
   ],
   "source": [
    "for i in range(3):\n",
    "    print(i)"
   ]
  },
  {
   "cell_type": "code",
   "execution_count": 138,
   "id": "ce3d0bdf",
   "metadata": {},
   "outputs": [],
   "source": [
    "mytable = Table(9)"
   ]
  },
  {
   "cell_type": "code",
   "execution_count": 139,
   "id": "b7cf86d9",
   "metadata": {},
   "outputs": [
    {
     "data": {
      "text/plain": [
       "[('diamond', 'Ace'),\n",
       " ('diamond', '6'),\n",
       " ('diamond', '8'),\n",
       " ('club', '3'),\n",
       " ('diamond', '7')]"
      ]
     },
     "execution_count": 139,
     "metadata": {},
     "output_type": "execute_result"
    }
   ],
   "source": [
    "mytable.view_table()"
   ]
  },
  {
   "cell_type": "code",
   "execution_count": 140,
   "id": "658c0b90",
   "metadata": {},
   "outputs": [
    {
     "data": {
      "text/plain": [
       "{1: [('heart', 'Queen'), ('club', 'Queen')],\n",
       " 2: [('heart', '5'), ('heart', '8')],\n",
       " 3: [('spade', '3'), ('club', '8')],\n",
       " 4: [('diamond', '10'), ('diamond', '3')],\n",
       " 5: [('diamond', '4'), ('diamond', 'King')],\n",
       " 6: [('heart', '10'), ('club', '10')],\n",
       " 7: [('club', 'King'), ('diamond', '2')],\n",
       " 8: [('spade', '2'), ('diamond', 'Queen')],\n",
       " 9: [('club', '9'), ('heart', 'Jack')]}"
      ]
     },
     "execution_count": 140,
     "metadata": {},
     "output_type": "execute_result"
    }
   ],
   "source": [
    "mytable.view_hands()"
   ]
  },
  {
   "cell_type": "code",
   "execution_count": null,
   "id": "43498363",
   "metadata": {},
   "outputs": [],
   "source": []
  }
 ],
 "metadata": {
  "kernelspec": {
   "display_name": "Python 3 (ipykernel)",
   "language": "python",
   "name": "python3"
  },
  "language_info": {
   "codemirror_mode": {
    "name": "ipython",
    "version": 3
   },
   "file_extension": ".py",
   "mimetype": "text/x-python",
   "name": "python",
   "nbconvert_exporter": "python",
   "pygments_lexer": "ipython3",
   "version": "3.9.7"
  }
 },
 "nbformat": 4,
 "nbformat_minor": 5
}
